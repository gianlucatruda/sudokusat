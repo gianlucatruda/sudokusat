>>> clear
>>> dimacs = [[3, -5], [5, 7], [-7, -3]]
>>> dimacs
[[3, -5], [5, 7], [-7, -3]]
>>> def tautology(arr):
...     new_arr = []
...     for clause in arr:
...         new_clause = clause
...         for literal in clause:
...             if (-1 * literal) in clause:
...                 print(literal)
...                 if literal in new_clause:
...                     new_clause.remove(literal)
...                 if (-1 * literal) in new_clause:
...                     new_clause.remove(-1 * literal)
...         new_arr.append(new_clause) 
...     return new_arr
...
>>> tautology(dimacs)
[[3, -5], [5, 7], [-7, -3]]
>>> tautology([[3, -3], [5, -5, 6], [2, -3, -2, 3, 5]])
[[], [6], [5]]
>>> def unit_clause(arr):
...     new_arr = []
...     for clause in arr:
...         new_clause = clause
...         if len(clause) is 1:
...             new_clause = [True]
...         new_arr.append(new_clause)
...     return new_arr
...
>>> unit_clause(dimacs)
[[3, -5], [5, 7], [-7, -3]]
>>> unit_clause([[3, 4, -3], [5, 7], [4], [0], [True], [-3, 4, -4]])
[[3, 4, -3], [5, 7], [True], [True], [True], [-3, 4, -4]]
>>> tautology([[3, 4, -3], [5, 7], [4], [0], [True], [-3, 4, -4]])
[[4], [5, 7], [4], [], [True], [-3]]
>>> unit_clause(tautology([[3, 4, -3], [5, 7], [4], [0], [True], [-3, 4, -4]]))
[[True], [5, 7], [True], [], [True], [True]]
>>> [*x for x in dimacs]
>>> [x for x in y for y in dimacs]
>>> [x for x in [y for y in dimacs]]
[[3, -5], [5, 7], [-7, -3]]
>>> dimacs
[[3, -5], [5, 7], [-7, -3]]
>>> [x for x in *[y for y in dimacs]]
>>> [y for y in dimacs]
[[3, -5], [5, 7], [-7, -3]]
>>> *dimacs
>>> **dimacs
>>> dimacs*
>>> [x for x in *dimacs]
>>> clear
>>> [y for x in dimacs for y in x]
[3, -5, 5, 7, -7, -3]
>>> def pure_literals(arr):
...     literals = list(set([y for x in arr for y in x]))
...     pos = [x for x in literals if x > 0]
...     neg = [-1*x for x in literals if x < 1]
...     pures = [x for x in pos if x not in neg]
...     pures.extend([x for x in neg if x not in pos])
...     return sorted(pures)
...
>>> pure_literals(dimacs)
[]
>>> pure_literals(dimacs.append([9, 6]))
>>> pure_literals([[1, 2], [-3, 7], [3, 5]])
[1, 2, 5, 7]
>>> pure_literals([1, 3], [-3])
>>> pure_literals([[1, 3], [-3]])
[1]
>>> %history
>>> ?history
>>> %history -g -f playground.ipynb
>>> !ls
>>> !less playground.ipynb
>>> ?history
>>> %history -o -f playground.ipynb
>>> !less playground.ipynb
>>> ?history
>>> %history -o -p -f playground.ipynb
